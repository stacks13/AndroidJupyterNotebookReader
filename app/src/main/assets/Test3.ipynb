{
 "cells": [
  {
   "cell_type": "code",
   "execution_count": 1,
   "metadata": {},
   "outputs": [],
   "source": [
    "from PIL import Image, ImageDraw, ImageFont"
   ]
  },
  {
   "cell_type": "code",
   "execution_count": 2,
   "metadata": {},
   "outputs": [],
   "source": [
    "font = ImageFont.truetype(\n",
    "    'C:\\\\Users\\\\Sahil\\\\AppData\\\\Local\\\\Microsoft\\\\Windows\\\\Fonts\\\\MTCORSVA.TTF',\n",
    "    size=160 # font size according to resolution\n",
    ")\n",
    "color = 'rgb(0, 0, 0)' # black color"
   ]
  },
  {
   "cell_type": "code",
   "execution_count": 3,
   "metadata": {},
   "outputs": [],
   "source": [
    "rows = open('participants.txt').read().split('\\n')\n",
    "\n",
    "title = rows[0].split('=')[1].strip() # title of event\n",
    "date = rows[1].split('=')[1].strip() # date of event\n",
    "rows = rows[2:]\n",
    "all_images = []"
   ]
  },
  {
   "cell_type": "code",
   "execution_count": 4,
   "metadata": {},
   "outputs": [
    {
     "name": "stdout",
     "output_type": "stream",
     "text": [
      "0\n",
      "1\n",
      "2\n",
      "3\n",
      "4\n",
      "5\n",
      "6\n",
      "7\n",
      "8\n",
      "9\n",
      "10\n",
      "11\n",
      "12\n",
      "13\n",
      "14\n",
      "15\n",
      "16\n",
      "17\n",
      "18\n",
      "19\n",
      "20\n",
      "21\n",
      "22\n",
      "23\n",
      "24\n",
      "25\n",
      "26\n",
      "27\n",
      "28\n",
      "29\n",
      "30\n",
      "31\n",
      "32\n",
      "33\n",
      "34\n",
      "35\n",
      "36\n",
      "37\n",
      "38\n",
      "39\n",
      "40\n",
      "41\n",
      "42\n",
      "43\n",
      "44\n",
      "45\n",
      "Done\n"
     ]
    }
   ],
   "source": [
    "###### THIS CONSUMES A LOT OF MEMORY DEPENDING \n",
    "###### ON RESOLUTION AND NUMBER OF CERTIFICATES\n",
    "\n",
    "for i in range(len(rows)):\n",
    "    name, college = rows[i].split(',')\n",
    "    image = Image.open('BLOCKLOGY_CERTIFICATE_PARTICIPATION_of.png') # path to template\n",
    "    \n",
    "    print(i, end='\\r\\n')\n",
    "    rgb = Image.new('RGB', image.size, (255, 255, 255))  # white background\n",
    "    rgb.paste(image, mask=image.split()[3]) \n",
    "    \n",
    "    draw = ImageDraw.Draw(rgb)\n",
    "    \n",
    "    # all values in pixels\n",
    "    Ys = [2420, 2420, 2717, 3000] # y coordinate of the blanks\n",
    "    Xstart = [1201, 2995, 1801, 3193] # X coordinate of beginning of blanks\n",
    "    Xend = [2785, 5217, 4981, 4761] # X coordinate of end of blanks\n",
    "    \n",
    "    # centering text\n",
    "    MAX_W = Xend[0] - Xstart[0] \n",
    "    w, h = draw.textsize(name, font=font)\n",
    "    draw.text((Xstart[0]+(MAX_W-w)//2, Ys[0]), name, fill=color, font=font)\n",
    "    \n",
    "    MAX_W = Xend[1] - Xstart[1]\n",
    "    w, h = draw.textsize(college, font=font)\n",
    "    draw.text((Xstart[1]+(MAX_W-w)//2, Ys[1]), college, fill=color, font=font)\n",
    "    \n",
    "    MAX_W = Xend[2] - Xstart[2]\n",
    "    w, h = draw.textsize(title, font=font)\n",
    "    draw.text((Xstart[2]+(MAX_W-w)//2, Ys[2]), title, fill=color, font=font)\n",
    "    \n",
    "    MAX_W = Xend[3] - Xstart[3]\n",
    "    w, h = draw.textsize(date, font=font)\n",
    "    draw.text((Xstart[3]+(MAX_W-w)//2, Ys[3]), date, fill=color, font=font)\n",
    "    \n",
    "    all_images.append(rgb)\n",
    "    \n",
    "print('Done')"
   ]
  },
  {
   "cell_type": "code",
   "execution_count": 5,
   "metadata": {},
   "outputs": [],
   "source": [
    "pdf1_filename = \"final1.pdf\"\n",
    "\n",
    "all_images[0].save(pdf1_filename, \"PDF\" ,resolution=100.0, save_all=True, append_images=all_images[1:])"
   ]
  },
  {
   "cell_type": "code",
   "execution_count": 11,
   "metadata": {},
   "outputs": [
    {
     "data": {
      "text/plain": [
       "3"
      ]
     },
     "execution_count": 11,
     "metadata": {},
     "output_type": "execute_result"
    }
   ],
   "source": [
    "3"
   ]
  },
  {
   "cell_type": "code",
   "execution_count": null,
   "metadata": {},
   "outputs": [],
   "source": []
  }
 ],
 "metadata": {
  "kernelspec": {
   "display_name": "Python 3",
   "language": "python",
   "name": "python3"
  },
  "language_info": {
   "codemirror_mode": {
    "name": "ipython",
    "version": 3
   },
   "file_extension": ".py",
   "mimetype": "text/x-python",
   "name": "python",
   "nbconvert_exporter": "python",
   "pygments_lexer": "ipython3",
   "version": "3.7.1"
  }
 },
 "nbformat": 4,
 "nbformat_minor": 2
}
