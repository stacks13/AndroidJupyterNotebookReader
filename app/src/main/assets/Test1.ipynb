{
 "cells": [
  {
   "cell_type": "code",
   "execution_count": 92,
   "metadata": {},
   "outputs": [],
   "source": [
    "from PIL import Image, ImageDraw, ImageFont"
   ]
  },
  {
   "cell_type": "code",
   "execution_count": 93,
   "metadata": {},
   "outputs": [],
   "source": [
    "font = ImageFont.truetype('C:\\WINDOWS\\FONTS\\MTCORSVA.TTF', size=32)\n",
    "\n",
    "color = 'rgb(0, 0, 0)' # black color"
   ]
  },
  {
   "cell_type": "code",
   "execution_count": 94,
   "metadata": {},
   "outputs": [],
   "source": [
    "names = open('names.txt').read().split('\\n')\n",
    "\n",
    "title = names[0].split('=')[1].strip()\n",
    "date = names[1].split('=')[1].strip()\n",
    "del(names[0])\n",
    "del(names[0])"
   ]
  },
  {
   "cell_type": "code",
   "execution_count": 95,
   "metadata": {},
   "outputs": [],
   "source": [
    "for i in range(len(names)):\n",
    "    name, college = [x.strip() for x in names[i].split(',')]\n",
    "    image = Image.open('cert.png')\n",
    "    draw = ImageDraw.Draw(image)\n",
    "    \n",
    "    y = 530\n",
    "    MAX_W = 761-265\n",
    "    w, h = draw.textsize(name, font=font)\n",
    "    draw.text((265+(MAX_W-w)//2, y), name, fill=color, font=font)\n",
    "    \n",
    "    y = 530\n",
    "    MAX_W = 1151-800\n",
    "    w, h = draw.textsize(college, font=font)\n",
    "    draw.text((800+(MAX_W-w)//2, y), college, fill=color, font=font)\n",
    "    \n",
    "    y = 595\n",
    "    MAX_W = 1100-400\n",
    "    w, h = draw.textsize(title, font=font)\n",
    "    draw.text((400+(MAX_W-w)//2, y), title, fill=color, font=font)\n",
    "    \n",
    "    y = 660\n",
    "    MAX_W = 1048-710\n",
    "    w, h = draw.textsize(date, font=font)\n",
    "    draw.text((710+(MAX_W-w)//2, y), date, fill=color, font=font)\n",
    "    \n",
    "    \n",
    "    image.save('{:03d}.png'.format(i))\n",
    " "
   ]
  },
  {
   "cell_type": "code",
   "execution_count": 89,
   "metadata": {},
   "outputs": [
    {
     "data": {
      "text/plain": [
       "['Sahil Nirkhe, SFIT', 'Daniel Lobo, SFIT']"
      ]
     },
     "execution_count": 89,
     "metadata": {},
     "output_type": "execute_result"
    }
   ],
   "source": [
    "names"
   ]
  },
  {
   "cell_type": "code",
   "execution_count": null,
   "metadata": {},
   "outputs": [],
   "source": []
  }
 ],
 "metadata": {
  "kernelspec": {
   "display_name": "Python 3",
   "language": "python",
   "name": "python3"
  },
  "language_info": {
   "codemirror_mode": {
    "name": "ipython",
    "version": 3
   },
   "file_extension": ".py",
   "mimetype": "text/x-python",
   "name": "python",
   "nbconvert_exporter": "python",
   "pygments_lexer": "ipython3",
   "version": "3.6.4"
  }
 },
 "nbformat": 4,
 "nbformat_minor": 2
}
